{
 "cells": [
  {
   "cell_type": "code",
   "execution_count": 1,
   "id": "9dbc4bf0-b71c-4267-84af-c86580698d0d",
   "metadata": {},
   "outputs": [
    {
     "name": "stderr",
     "output_type": "stream",
     "text": [
      "/home/msi/.local/lib/python3.10/site-packages/sklearn/utils/__init__.py:15: UserWarning: A NumPy version >=1.22.4 and <2.3.0 is required for this version of SciPy (detected version 1.21.5)\n",
      "  from scipy.sparse import issparse\n",
      "2025-03-25 23:44:14.466540: I tensorflow/core/util/port.cc:153] oneDNN custom operations are on. You may see slightly different numerical results due to floating-point round-off errors from different computation orders. To turn them off, set the environment variable `TF_ENABLE_ONEDNN_OPTS=0`.\n",
      "2025-03-25 23:44:14.475973: E external/local_xla/xla/stream_executor/cuda/cuda_fft.cc:467] Unable to register cuFFT factory: Attempting to register factory for plugin cuFFT when one has already been registered\n",
      "WARNING: All log messages before absl::InitializeLog() is called are written to STDERR\n",
      "E0000 00:00:1742935454.486438 3054637 cuda_dnn.cc:8579] Unable to register cuDNN factory: Attempting to register factory for plugin cuDNN when one has already been registered\n",
      "E0000 00:00:1742935454.489574 3054637 cuda_blas.cc:1407] Unable to register cuBLAS factory: Attempting to register factory for plugin cuBLAS when one has already been registered\n",
      "W0000 00:00:1742935454.498349 3054637 computation_placer.cc:177] computation placer already registered. Please check linkage and avoid linking the same target more than once.\n",
      "W0000 00:00:1742935454.498365 3054637 computation_placer.cc:177] computation placer already registered. Please check linkage and avoid linking the same target more than once.\n",
      "W0000 00:00:1742935454.498367 3054637 computation_placer.cc:177] computation placer already registered. Please check linkage and avoid linking the same target more than once.\n",
      "W0000 00:00:1742935454.498368 3054637 computation_placer.cc:177] computation placer already registered. Please check linkage and avoid linking the same target more than once.\n",
      "2025-03-25 23:44:14.501163: I tensorflow/core/platform/cpu_feature_guard.cc:210] This TensorFlow binary is optimized to use available CPU instructions in performance-critical operations.\n",
      "To enable the following instructions: AVX2 AVX_VNNI FMA, in other operations, rebuild TensorFlow with the appropriate compiler flags.\n",
      "2025-03-25 23:44:17.210 INFO    datasets: PyTorch version 2.6.0 available.\n",
      "2025-03-25 23:44:17.211 INFO    datasets: TensorFlow version 2.19.0 available.\n"
     ]
    }
   ],
   "source": [
    "import yfinance as yf\n",
    "import pandas as pd\n",
    "import numpy as np\n",
    "from sklearn.model_selection import train_test_split\n",
    "from sklearn.metrics import mean_squared_error, mean_absolute_error, mean_absolute_percentage_error\n",
    "from catboost import CatBoostRegressor\n",
    "from xgboost import XGBRegressor\n",
    "from lightgbm import LGBMRegressor\n",
    "import torch\n",
    "import torch.nn as nn\n",
    "import torch.optim as optim\n",
    "from torch.utils.data import TensorDataset, DataLoader\n",
    "import matplotlib.pyplot as plt\n",
    "import pytz\n",
    "import streamlit as st\n",
    "from datetime import datetime as dt\n",
    "from keras.models import Sequential\n",
    "from tensorflow.keras.layers import GRU, LSTM, Dense, Conv1D, MaxPooling1D, Flatten\n",
    "import time\n",
    "from razdel import sentenize\n",
    "from natasha import Segmenter\n",
    "import nltk\n",
    "from rouge_score import rouge_scorer\n",
    "from transformers import pipeline, logging\n",
    "import evaluate\n",
    "import numpy as np\n",
    "import time\n",
    "from nltk.tokenize.toktok import ToktokTokenizer\n",
    "import sacremoses"
   ]
  },
  {
   "cell_type": "code",
   "execution_count": 3,
   "id": "e45dc61c-7634-4044-be4d-9c31d4ada4cf",
   "metadata": {},
   "outputs": [
    {
     "name": "stderr",
     "output_type": "stream",
     "text": [
      "[*********************100%***********************]  1 of 1 completed\n"
     ]
    }
   ],
   "source": [
    "# --- Загрузка данных ---\n",
    "ticker_list = ['META', 'GOOG', 'ORCL', 'MSFT', 'AMZN']# Замените на нужный тикер\n",
    "ticker = 'GOOG'\n",
    "tz = pytz.timezone(\"America/New_York\")\n",
    "start = tz.localize(dt(2023,11,11))\n",
    "end = tz.localize(dt(2024,11,11))\n",
    "data = yf.download(ticker, start, end, auto_adjust=True) # Замените на нужный период\n"
   ]
  },
  {
   "cell_type": "code",
   "execution_count": 4,
   "id": "84479169-cf10-4df4-bf64-e9f0f58ef081",
   "metadata": {},
   "outputs": [
    {
     "name": "stdout",
     "output_type": "stream",
     "text": [
      "Price             Open        High         Low       Close    Volume\n",
      "Ticker            GOOG        GOOG        GOOG        GOOG      GOOG\n",
      "Date                                                                \n",
      "2023-11-13  132.731316  133.477780  132.144101  133.009995  16409900\n",
      "2023-11-14  135.010514  136.593030  134.463119  134.791550  22317300\n",
      "2023-11-15  135.995860  136.194914  134.692038  135.737091  15840900\n",
      "2023-11-16  136.314355  138.225302  135.438499  138.046143  17615100\n",
      "2023-11-17  137.170321  137.349465  134.841340  136.294464  25565300\n",
      "...                ...         ...         ...         ...       ...\n",
      "2024-11-01  171.150621  173.425460  169.923418  172.258102  21752900\n",
      "2024-11-04  170.851298  171.529747  169.100277  170.292557  16194000\n",
      "2024-11-05  170.442235  171.706357  169.983272  171.020920  12518300\n",
      "2024-11-06  174.951985  178.234511  174.642676  177.925217  27061500\n",
      "2024-11-07  178.703439  182.165564  178.483937  181.866241  16730400\n",
      "\n",
      "[249 rows x 5 columns] Date\n",
      "2023-11-13    134.791550\n",
      "2023-11-14    135.737091\n",
      "2023-11-15    138.046143\n",
      "2023-11-16    136.294464\n",
      "2023-11-17    137.269821\n",
      "                 ...    \n",
      "2024-11-01    170.292557\n",
      "2024-11-04    171.020920\n",
      "2024-11-05    177.925217\n",
      "2024-11-06    181.866241\n",
      "2024-11-07    179.451752\n",
      "Name: Close_Next_Day, Length: 249, dtype: float64\n"
     ]
    }
   ],
   "source": [
    "# --- Предобработка данных ---\n",
    "data['Close_Next_Day'] = data['Close'].shift(-1) # Целевая переменная - цена закрытия следующего дня\n",
    "data.dropna(inplace=True)\n",
    "features = ['Open', 'High', 'Low', 'Close', 'Volume']\n",
    "target = 'Close_Next_Day'\n",
    "X = data[features]\n",
    "y = data[target]\n",
    "print (X,y)"
   ]
  },
  {
   "cell_type": "code",
   "execution_count": 5,
   "id": "23c68056-90c5-4c40-b484-24f2d38ce1d6",
   "metadata": {},
   "outputs": [],
   "source": [
    "# --- Подготовка данных для GRU/CNN ---\n",
    "def create_sequences(data, seq_length):\n",
    "    xs = []\n",
    "    ys = []\n",
    "    for i in range(len(data) - seq_length - 1):\n",
    "        x = data[i:(i + seq_length)].values\n",
    "        y = data.iloc[i + seq_length +1][target]\n",
    "        xs.append(x)\n",
    "        ys.append(y)\n",
    "    return np.array(xs), np.array(ys)\n",
    "\n",
    "seq_length = 10 # Длина последовательности для GRU/CNN\n",
    "X_rnn, y_rnn= create_sequences(data, seq_length)\n",
    "print \n",
    "\n",
    "\n",
    "# --- Разделение данных ---\n",
    "X_train, X_test, y_train, y_test = train_test_split(X, y, test_size=0.2, shuffle=False)\n",
    "X_train_rnn, X_test_rnn, y_train_rnn, y_test_rnn = train_test_split(X_rnn, y_rnn, test_size=0.2, shuffle=False)\n",
    "\n",
    "\n"
   ]
  },
  {
   "cell_type": "code",
   "execution_count": 6,
   "id": "20ad5007-5d9e-4964-87d4-6342454fe1df",
   "metadata": {},
   "outputs": [
    {
     "name": "stderr",
     "output_type": "stream",
     "text": [
      "2025-03-25 23:37:10.823002: E external/local_xla/xla/stream_executor/cuda/cuda_driver.cc:266] failed call to cuInit: CUDA_ERROR_NO_DEVICE: no CUDA-capable device is detected\n",
      "/home/msi/.local/lib/python3.10/site-packages/keras/src/layers/rnn/rnn.py:200: UserWarning: Do not pass an `input_shape`/`input_dim` argument to a layer. When using Sequential models, prefer using an `Input(shape)` object as the first layer in the model instead.\n",
      "  super().__init__(**kwargs)\n",
      "/home/msi/.local/lib/python3.10/site-packages/keras/src/layers/convolutional/base_conv.py:107: UserWarning: Do not pass an `input_shape`/`input_dim` argument to a layer. When using Sequential models, prefer using an `Input(shape)` object as the first layer in the model instead.\n",
      "  super().__init__(activity_regularizer=activity_regularizer, **kwargs)\n"
     ]
    }
   ],
   "source": [
    "models = {\n",
    "    \"CatBoost\": CatBoostRegressor(iterations=50, verbose=0, random_state=42),\n",
    "    \"XGBoost\": XGBRegressor(n_estimators=50, random_state=42),\n",
    "  #  \"LightGBM\": LGBMRegressor(n_estimators=50, random_state=42),\n",
    "    \"GRU\": Sequential([\n",
    "        GRU(50, activation='relu', input_shape=(X_train_rnn.shape[1], X_train_rnn.shape[2])),\n",
    "        Dense(1)\n",
    "    ]),\n",
    "    \"CNN\": Sequential([\n",
    "        Conv1D(filters=64, kernel_size=3, activation='relu', input_shape=(X_train_rnn.shape[1], X_train_rnn.shape[2])),\n",
    "        MaxPooling1D(pool_size=2),\n",
    "        Flatten(),\n",
    "        Dense(50, activation='relu'),\n",
    "        Dense(1)\n",
    "    ]),\n",
    "    \"LSTM\": Sequential([\n",
    "        LSTM(50, activation='relu', input_shape=(X_train_rnn.shape[1], X_train_rnn.shape[2])),\n",
    "        Dense(1)\n",
    "    ])\n",
    "}\n"
   ]
  },
  {
   "cell_type": "code",
   "execution_count": 7,
   "id": "f47751b0-287e-432e-ba3d-2c153c3b3913",
   "metadata": {},
   "outputs": [
    {
     "name": "stdout",
     "output_type": "stream",
     "text": [
      "\u001b[1m2/2\u001b[0m \u001b[32m━━━━━━━━━━━━━━━━━━━━\u001b[0m\u001b[37m\u001b[0m \u001b[1m0s\u001b[0m 85ms/step\n",
      "\u001b[1m2/2\u001b[0m \u001b[32m━━━━━━━━━━━━━━━━━━━━\u001b[0m\u001b[37m\u001b[0m \u001b[1m0s\u001b[0m 35ms/step\n"
     ]
    },
    {
     "name": "stderr",
     "output_type": "stream",
     "text": [
      "2025-03-25 23:37:32.888 WARNING tensorflow: 5 out of the last 5 calls to <function TensorFlowTrainer.make_predict_function.<locals>.one_step_on_data_distributed at 0x7c8bfe48c9d0> triggered tf.function retracing. Tracing is expensive and the excessive number of tracings could be due to (1) creating @tf.function repeatedly in a loop, (2) passing tensors with different shapes, (3) passing Python objects instead of tensors. For (1), please define your @tf.function outside of the loop. For (2), @tf.function has reduce_retracing=True option that can avoid unnecessary retracing. For (3), please refer to https://www.tensorflow.org/guide/function#controlling_retracing and https://www.tensorflow.org/api_docs/python/tf/function for  more details.\n"
     ]
    },
    {
     "name": "stdout",
     "output_type": "stream",
     "text": [
      "\u001b[1m1/2\u001b[0m \u001b[32m━━━━━━━━━━\u001b[0m\u001b[37m━━━━━━━━━━\u001b[0m \u001b[1m0s\u001b[0m 70ms/step"
     ]
    },
    {
     "name": "stderr",
     "output_type": "stream",
     "text": [
      "2025-03-25 23:37:32.955 WARNING tensorflow: 6 out of the last 6 calls to <function TensorFlowTrainer.make_predict_function.<locals>.one_step_on_data_distributed at 0x7c8bfe48c9d0> triggered tf.function retracing. Tracing is expensive and the excessive number of tracings could be due to (1) creating @tf.function repeatedly in a loop, (2) passing tensors with different shapes, (3) passing Python objects instead of tensors. For (1), please define your @tf.function outside of the loop. For (2), @tf.function has reduce_retracing=True option that can avoid unnecessary retracing. For (3), please refer to https://www.tensorflow.org/guide/function#controlling_retracing and https://www.tensorflow.org/api_docs/python/tf/function for  more details.\n"
     ]
    },
    {
     "name": "stdout",
     "output_type": "stream",
     "text": [
      "\u001b[1m2/2\u001b[0m \u001b[32m━━━━━━━━━━━━━━━━━━━━\u001b[0m\u001b[37m\u001b[0m \u001b[1m0s\u001b[0m 78ms/step\n"
     ]
    }
   ],
   "source": [
    "\n",
    "# --- Обучение и оценка ---\n",
    "results = {}\n",
    "\n",
    "for name, model in models.items():\n",
    "    start_time = time.time() # Засекаем время начала обучения\n",
    "\n",
    "    if name in [\"LSTM\", \"GRU\", \"CNN\"]:\n",
    "        model.compile(optimizer='adam', loss='mse')\n",
    "        model.fit(X_train_rnn if name in [\"LSTM\", \"GRU\"] else X_train_rnn, y_train_rnn if name in [\"LSTM\", \"GRU\"] else y_train_rnn, epochs=100, batch_size=32, verbose=0)\n",
    "        preds = model.predict(X_test_rnn if name in [\"LSTM\", \"GRU\"] else X_test_rnn).flatten()\n",
    "        y_true = y_test_rnn if name in [\"LSTM\", \"GRU\"] else y_test_rnn\n",
    "\n",
    "    else:\n",
    "        model.fit(X_train, y_train)\n",
    "        preds = model.predict(X_test)\n",
    "        y_true = y_test\n",
    "\n",
    "\n",
    "    end_time = time.time()\n",
    "    training_time = end_time - start_time\n",
    "\n",
    "    rmse = np.sqrt(mean_squared_error(y_true, preds))\n",
    "    mae = mean_absolute_error(y_true, preds)\n",
    "    mape = mean_absolute_percentage_error(y_true, preds)\n",
    "    results[name] = {\"RMSE\": rmse, \"MAE\": mae, \"MAPE\": mape, \"Training Time\": training_time}\n"
   ]
  },
  {
   "cell_type": "code",
   "execution_count": 8,
   "id": "34c314c0-d4ba-407d-940a-30cb58be66cd",
   "metadata": {},
   "outputs": [
    {
     "data": {
      "image/png": "[encoded data removed]",
      "text/plain": [
       "<Figure size 1500x500 with 3 Axes>"
      ]
     },
     "metadata": {},
     "output_type": "display_data"
    },
    {
     "name": "stdout",
     "output_type": "stream",
     "text": [
      "CatBoost:\n",
      " RMSE: 3.3931\n",
      " MAE: 2.6279\n",
      " MAPE: 0.0160\n",
      " Training Time: 0.1472\n",
      "XGBoost:\n",
      " RMSE: 3.4060\n",
      " MAE: 2.6756\n",
      " MAPE: 0.0164\n",
      " Training Time: 0.1628\n",
      "GRU:\n",
      " RMSE: 82385.4541\n",
      " MAE: 47888.3269\n",
      " MAPE: 293.0600\n",
      " Training Time: 4.7079\n",
      "CNN:\n",
      " RMSE: 76368.0926\n",
      " MAE: 54868.0310\n",
      " MAPE: 331.1072\n",
      " Training Time: 3.5195\n",
      "LSTM:\n",
      " RMSE: 83453.6934\n",
      " MAE: 29846.9446\n",
      " MAPE: 180.4395\n",
      " Training Time: 4.3156\n"
     ]
    }
   ],
   "source": [
    "# --- Визуализация ---\n",
    "fig, axes = plt.subplots(1, 3, figsize=(15, 5))\n",
    "\n",
    "for i, metric in enumerate([\"RMSE\", \"MAE\", \"MAPE\"]):\n",
    "    model_names = list(results.keys())\n",
    "    metric_values = [results[name][metric] for name in model_names]\n",
    "    axes[i].bar(model_names, metric_values)\n",
    "    axes[i].set_title(metric)\n",
    "    axes[i].set_ylabel(metric)\n",
    "\n",
    "\n",
    "plt.tight_layout()\n",
    "plt.show()\n",
    "\n",
    "# --- Вывод результатов ---\n",
    "for name, metrics in results.items():\n",
    "    print(f\"{name}:\")\n",
    "    for metric, value in metrics.items():\n",
    "        print(f\" {metric}: {value:.4f}\")"
   ]
  },
  {
   "cell_type": "code",
   "execution_count": 9,
   "id": "217ef101-77c8-498d-ad7e-23424b402666",
   "metadata": {},
   "outputs": [
    {
     "data": {
      "image/png": "[encoded data removed]",
      "text/plain": [
       "<Figure size 2000x500 with 4 Axes>"
      ]
     },
     "metadata": {},
     "output_type": "display_data"
    },
    {
     "name": "stdout",
     "output_type": "stream",
     "text": [
      "\n",
      "--- Результаты и проверка гипотез ---\n",
      "\n",
      "CatBoost:\n",
      " RMSE: 3.3931\n",
      " MAE: 2.6279\n",
      " MAPE: 0.0160\n",
      " Training Time: 0.1472\n",
      "--------------------\n",
      "XGBoost:\n",
      " RMSE: 3.4060\n",
      " MAE: 2.6756\n",
      " MAPE: 0.0164\n",
      " Training Time: 0.1628\n",
      "--------------------\n",
      "GRU:\n",
      " RMSE: 82385.4541\n",
      " MAE: 47888.3269\n",
      " MAPE: 293.0600\n",
      " Training Time: 4.7079\n",
      "--------------------\n",
      "CNN:\n",
      " RMSE: 76368.0926\n",
      " MAE: 54868.0310\n",
      " MAPE: 331.1072\n",
      " Training Time: 3.5195\n",
      "--------------------\n",
      "LSTM:\n",
      " RMSE: 83453.6934\n",
      " MAE: 29846.9446\n",
      " MAPE: 180.4395\n",
      " Training Time: 4.3156\n",
      "--------------------\n"
     ]
    }
   ],
   "source": [
    "fig, axes = plt.subplots(1, len(metrics), figsize=(20, 5))\n",
    "\n",
    "for i, metric in enumerate(metrics):\n",
    "    model_names = list(results.keys())\n",
    "    metric_values = [results[name][metric] for name in model_names]\n",
    "    axes[i].bar(model_names, metric_values)\n",
    "    axes[i].set_title(metric)\n",
    "    axes[i].set_ylabel(metric)\n",
    "\n",
    "\n",
    "plt.tight_layout()\n",
    "plt.show()\n",
    "\n",
    "\n",
    "\n",
    "\n",
    "# --- Вывод результатов и проверка гипотез ---\n",
    "print(\"\\n--- Результаты и проверка гипотез ---\\n\")\n",
    "\n",
    "for name, metrics in results.items():\n",
    "    print(f\"{name}:\")\n",
    "    for metric, value in metrics.items():\n",
    "        print(f\" {metric}: {value:.4f}\")\n",
    "    print(\"-\" * 20)"
   ]
  },
  {
   "cell_type": "code",
   "execution_count": null,
   "id": "6bbf4480-d953-45cd-b1f5-b61ea8a5a346",
   "metadata": {},
   "outputs": [],
   "source": [
    "\n",
    "#1. GRU покажет наименьшее значение RMSE при прогнозировании цены закрытия следующего дня по сравнению с другими моделями,\n",
    "# благодаря способности улавливать долгосрочные зависимости во временных рядах. approved\n",
    "#2.  CatBoost превзойдет XGBoost  по метрике MAPE, благодаря своей устойчивости к пропущенным значениям и категориальным признакам\n",
    "# (если таковые имеются в данных). approved\n",
    "#3. XGBoost будет иметь наименьшее время обучения по сравнению с CatBoost , при этом обеспечивая сопоставимую точность (RMSE). approved\n",
    "#4. CNN покажет RMSE, сравнимое с GRU, при прогнозировании цены закрытия следующего дня, но будет обучаться быстрее. not approved\n",
    "#5. XGBoost будет наиболее эффективной моделью с точки зрения скорости обучения и предсказания по сравнению с остальными, \n",
    "# при этом обеспечивая приемлемый уровень точности для долгосрочного прогнозирования approved\n",
    "#6. CatBoost покажет лучшую производительность (RMSE) среди моделей бустинга. approved\n",
    "#7. LSTM будет точнее GRU по RMSE, но с большим временем обучения. not approved"
   ]
  },
  {
   "cell_type": "code",
   "execution_count": 2,
   "id": "68b8e6bc-3648-437b-87f4-c88617f63327",
   "metadata": {},
   "outputs": [
    {
     "data": {
      "application/vnd.jupyter.widget-view+json": {
       "model_id": "b64831cba68d4d24b54f5c38831fe46e",
       "version_major": 2,
       "version_minor": 0
      },
      "text/plain": [
       "model.safetensors:   0%|          | 0.00/977M [00:00<?, ?B/s]"
      ]
     },
     "metadata": {},
     "output_type": "display_data"
    },
    {
     "data": {
      "application/vnd.jupyter.widget-view+json": {
       "model_id": "7fb508e11d2749d79eed4e390c28d26b",
       "version_major": 2,
       "version_minor": 0
      },
      "text/plain": [
       "tokenizer_config.json:   0%|          | 0.00/315 [00:00<?, ?B/s]"
      ]
     },
     "metadata": {},
     "output_type": "display_data"
    },
    {
     "data": {
      "application/vnd.jupyter.widget-view+json": {
       "model_id": "57192b7283854f2ca626e6eba0309200",
       "version_major": 2,
       "version_minor": 0
      },
      "text/plain": [
       "spiece.model:   0%|          | 0.00/828k [00:00<?, ?B/s]"
      ]
     },
     "metadata": {},
     "output_type": "display_data"
    },
    {
     "data": {
      "application/vnd.jupyter.widget-view+json": {
       "model_id": "97283a14d03a4c0692b585572d1cb7d2",
       "version_major": 2,
       "version_minor": 0
      },
      "text/plain": [
       "special_tokens_map.json:   0%|          | 0.00/65.0 [00:00<?, ?B/s]"
      ]
     },
     "metadata": {},
     "output_type": "display_data"
    },
    {
     "name": "stderr",
     "output_type": "stream",
     "text": [
      "You are using the default legacy behaviour of the <class 'transformers.models.t5.tokenization_t5.T5Tokenizer'>. This is expected, and simply means that the `legacy` (previous) behavior will be used so nothing changes for you. If you want to use the new behaviour, set `legacy=False`. This should only be set if you understand what it means, and thoroughly read the reason why this was added as explained in https://github.com/huggingface/transformers/pull/24565\n",
      "/home/msi/.local/lib/python3.10/site-packages/transformers/convert_slow_tokenizer.py:561: UserWarning: The sentencepiece tokenizer that you are converting to a fast tokenizer uses the byte fallback option which is not implemented in the fast tokenizers. In practice this means that the fast version of the tokenizer can produce unknown tokens whereas the sentencepiece version would have converted these unknown tokens into a sequence of byte tokens matching the original piece of text.\n",
      "  warnings.warn(\n",
      "Device set to use cpu\n"
     ]
    },
    {
     "data": {
      "application/vnd.jupyter.widget-view+json": {
       "model_id": "4262e3414f5741f7a9e12c2a6ab5293c",
       "version_major": 2,
       "version_minor": 0
      },
      "text/plain": [
       "config.json:   0%|          | 0.00/553 [00:00<?, ?B/s]"
      ]
     },
     "metadata": {},
     "output_type": "display_data"
    },
    {
     "data": {
      "application/vnd.jupyter.widget-view+json": {
       "model_id": "7dc93bc29ddd43d2a1e7b54de4da75f9",
       "version_major": 2,
       "version_minor": 0
      },
      "text/plain": [
       "pytorch_model.bin:   0%|          | 0.00/1.20G [00:00<?, ?B/s]"
      ]
     },
     "metadata": {},
     "output_type": "display_data"
    },
    {
     "data": {
      "application/vnd.jupyter.widget-view+json": {
       "model_id": "273bc000e0cb4c6ea496e5795c057227",
       "version_major": 2,
       "version_minor": 0
      },
      "text/plain": [
       "generation_config.json:   0%|          | 0.00/147 [00:00<?, ?B/s]"
      ]
     },
     "metadata": {},
     "output_type": "display_data"
    },
    {
     "data": {
      "application/vnd.jupyter.widget-view+json": {
       "model_id": "8eb0a10c556c4919ac2644992c372857",
       "version_major": 2,
       "version_minor": 0
      },
      "text/plain": [
       "tokenizer_config.json:   0%|          | 0.00/82.0 [00:00<?, ?B/s]"
      ]
     },
     "metadata": {},
     "output_type": "display_data"
    },
    {
     "data": {
      "application/vnd.jupyter.widget-view+json": {
       "model_id": "19c40437cd7f43caa380b25216575613",
       "version_major": 2,
       "version_minor": 0
      },
      "text/plain": [
       "spiece.model:   0%|          | 0.00/4.31M [00:00<?, ?B/s]"
      ]
     },
     "metadata": {},
     "output_type": "display_data"
    },
    {
     "data": {
      "application/vnd.jupyter.widget-view+json": {
       "model_id": "914887656f2446acbfd9dd4f0f5ba2e9",
       "version_major": 2,
       "version_minor": 0
      },
      "text/plain": [
       "model.safetensors:   0%|          | 0.00/1.20G [00:00<?, ?B/s]"
      ]
     },
     "metadata": {},
     "output_type": "display_data"
    },
    {
     "data": {
      "application/vnd.jupyter.widget-view+json": {
       "model_id": "a16599d8297d4ec7aed08cf3cddd2020",
       "version_major": 2,
       "version_minor": 0
      },
      "text/plain": [
       "special_tokens_map.json:   0%|          | 0.00/99.0 [00:00<?, ?B/s]"
      ]
     },
     "metadata": {},
     "output_type": "display_data"
    },
    {
     "name": "stderr",
     "output_type": "stream",
     "text": [
      "Device set to use cpu\n"
     ]
    },
    {
     "data": {
      "application/vnd.jupyter.widget-view+json": {
       "model_id": "39eeada294e04fb99eda0ba9202a4ccf",
       "version_major": 2,
       "version_minor": 0
      },
      "text/plain": [
       "config.json:   0%|          | 0.00/1.58k [00:00<?, ?B/s]"
      ]
     },
     "metadata": {},
     "output_type": "display_data"
    },
    {
     "data": {
      "application/vnd.jupyter.widget-view+json": {
       "model_id": "bc3322f1404542eda907f5adc8948e0d",
       "version_major": 2,
       "version_minor": 0
      },
      "text/plain": [
       "model.safetensors:   0%|          | 0.00/1.63G [00:00<?, ?B/s]"
      ]
     },
     "metadata": {},
     "output_type": "display_data"
    },
    {
     "data": {
      "application/vnd.jupyter.widget-view+json": {
       "model_id": "e391d3177cbd4e0da87f4aba45f9ed2d",
       "version_major": 2,
       "version_minor": 0
      },
      "text/plain": [
       "generation_config.json:   0%|          | 0.00/363 [00:00<?, ?B/s]"
      ]
     },
     "metadata": {},
     "output_type": "display_data"
    },
    {
     "data": {
      "application/vnd.jupyter.widget-view+json": {
       "model_id": "06207694b89546abaaf1bc1c06dcda6f",
       "version_major": 2,
       "version_minor": 0
      },
      "text/plain": [
       "vocab.json:   0%|          | 0.00/899k [00:00<?, ?B/s]"
      ]
     },
     "metadata": {},
     "output_type": "display_data"
    },
    {
     "data": {
      "application/vnd.jupyter.widget-view+json": {
       "model_id": "4466e551d4824975ad278b3e4f4fa4fb",
       "version_major": 2,
       "version_minor": 0
      },
      "text/plain": [
       "merges.txt:   0%|          | 0.00/456k [00:00<?, ?B/s]"
      ]
     },
     "metadata": {},
     "output_type": "display_data"
    },
    {
     "data": {
      "application/vnd.jupyter.widget-view+json": {
       "model_id": "c517dd59751c4ffa8f8abd616f9844bd",
       "version_major": 2,
       "version_minor": 0
      },
      "text/plain": [
       "tokenizer.json:   0%|          | 0.00/1.36M [00:00<?, ?B/s]"
      ]
     },
     "metadata": {},
     "output_type": "display_data"
    },
    {
     "name": "stderr",
     "output_type": "stream",
     "text": [
      "Device set to use cpu\n"
     ]
    },
    {
     "data": {
      "application/vnd.jupyter.widget-view+json": {
       "model_id": "2c31c7da7a444c5280ada1fd08f8ede3",
       "version_major": 2,
       "version_minor": 0
      },
      "text/plain": [
       "config.json:   0%|          | 0.00/1.39k [00:00<?, ?B/s]"
      ]
     },
     "metadata": {},
     "output_type": "display_data"
    },
    {
     "data": {
      "application/vnd.jupyter.widget-view+json": {
       "model_id": "40e15eb8eb59409991bd57060fb8c3cd",
       "version_major": 2,
       "version_minor": 0
      },
      "text/plain": [
       "pytorch_model.bin:   0%|          | 0.00/2.28G [00:00<?, ?B/s]"
      ]
     },
     "metadata": {},
     "output_type": "display_data"
    },
    {
     "data": {
      "application/vnd.jupyter.widget-view+json": {
       "model_id": "718adee2df5a4afaa031192c8081bfe0",
       "version_major": 2,
       "version_minor": 0
      },
      "text/plain": [
       "model.safetensors:   0%|          | 0.00/2.28G [00:00<?, ?B/s]"
      ]
     },
     "metadata": {},
     "output_type": "display_data"
    },
    {
     "name": "stderr",
     "output_type": "stream",
     "text": [
      "Some weights of PegasusForConditionalGeneration were not initialized from the model checkpoint at google/pegasus-xsum and are newly initialized: ['model.decoder.embed_positions.weight', 'model.encoder.embed_positions.weight']\n",
      "You should probably TRAIN this model on a down-stream task to be able to use it for predictions and inference.\n"
     ]
    },
    {
     "data": {
      "application/vnd.jupyter.widget-view+json": {
       "model_id": "e0c157d448504e0fbdfc0af0fe6786f1",
       "version_major": 2,
       "version_minor": 0
      },
      "text/plain": [
       "generation_config.json:   0%|          | 0.00/259 [00:00<?, ?B/s]"
      ]
     },
     "metadata": {},
     "output_type": "display_data"
    },
    {
     "data": {
      "application/vnd.jupyter.widget-view+json": {
       "model_id": "131e563b25a943958998e2fac2d38315",
       "version_major": 2,
       "version_minor": 0
      },
      "text/plain": [
       "tokenizer_config.json:   0%|          | 0.00/87.0 [00:00<?, ?B/s]"
      ]
     },
     "metadata": {},
     "output_type": "display_data"
    },
    {
     "data": {
      "application/vnd.jupyter.widget-view+json": {
       "model_id": "b8a26ef3235647db8b13b955e258294b",
       "version_major": 2,
       "version_minor": 0
      },
      "text/plain": [
       "spiece.model:   0%|          | 0.00/1.91M [00:00<?, ?B/s]"
      ]
     },
     "metadata": {},
     "output_type": "display_data"
    },
    {
     "data": {
      "application/vnd.jupyter.widget-view+json": {
       "model_id": "03c0dd8ddf284dd0a4349a9f45177524",
       "version_major": 2,
       "version_minor": 0
      },
      "text/plain": [
       "tokenizer.json:   0%|          | 0.00/3.52M [00:00<?, ?B/s]"
      ]
     },
     "metadata": {},
     "output_type": "display_data"
    },
    {
     "data": {
      "application/vnd.jupyter.widget-view+json": {
       "model_id": "2a7090990de54cd48623d1a3d1bfb735",
       "version_major": 2,
       "version_minor": 0
      },
      "text/plain": [
       "special_tokens_map.json:   0%|          | 0.00/65.0 [00:00<?, ?B/s]"
      ]
     },
     "metadata": {},
     "output_type": "display_data"
    },
    {
     "name": "stderr",
     "output_type": "stream",
     "text": [
      "Device set to use cpu\n"
     ]
    }
   ],
   "source": [
    "# --- Метрики ---\n",
    "metrics = [\"ROUGE-1\", \"ROUGE-2\", \"ROUGE-L\", \"Inference Time\"]\n",
    "\n",
    "\n",
    "news_texts = [\n",
    "    \"\"\"Российские ученые разработали новый метод лечения рака. Этот метод основан на использовании наночастиц. Предварительные испытания показали высокую эффективность. Минздрав планирует внедрить новый метод в ближайшее время. Это открытие может спасти миллионы жизней.\"\"\",\n",
    "    \"\"\"В Москве открылась новая выставка современного искусства. На выставке представлены работы молодых художников. Экспозиция включает в себя картины, скульптуры и инсталляции. Выставка продлится до конца месяца. Вход свободный.\"\"\",\n",
    "    \"\"\"Сегодня утром на трассе М4 произошло ДТП. Столкнулись два легковых автомобиля. Есть пострадавшие. Движение на трассе затруднено. Полиция выясняет обстоятельства произошедшего.\"\"\"\n",
    "]\n",
    "\n",
    "\n",
    "# --- Модели суммаризации ---\n",
    "summarizers = {\n",
    "    \"Lead-3\": lambda text: \" \".join([s.text for s in list(sentenize(text))[:3]]), # Используем razdel для русских текстов\n",
    "    \"ruT5-base\": pipeline(\"summarization\", model=\"cointegrated/rut5-base-absum\"),\n",
    "    \"mT5-small\": pipeline(\"summarization\", model=\"google/mt5-small\"),\n",
    "    \"BART large-cnn\": pipeline(\"summarization\", model=\"facebook/bart-large-cnn\"),\n",
    "    \"Pegasus XSUM\": pipeline(\"summarization\", model=\"google/pegasus-xsum\")\n",
    "\n",
    "}"
   ]
  },
  {
   "cell_type": "code",
   "execution_count": 10,
   "id": "7755c61a-6e6d-4392-8a53-87f62a6f6669",
   "metadata": {},
   "outputs": [
    {
     "name": "stderr",
     "output_type": "stream",
     "text": [
      "2025-03-26 00:31:52.737 INFO    absl: Using default tokenizer.\n",
      "2025-03-26 00:31:52.796 INFO    absl: Using default tokenizer.\n",
      "2025-03-26 00:31:52.850 INFO    absl: Using default tokenizer.\n"
     ]
    },
    {
     "name": "stdout",
     "output_type": "stream",
     "text": [
      "Российские ученые разработали новый метод лечения рака. Этот метод основан на использовании наночастиц. Предварительные испытания показали высокую эффективность.\n",
      "В Москве открылась новая выставка современного искусства. На выставке представлены работы молодых художников. Экспозиция включает в себя картины, скульптуры и инсталляции.\n",
      "Сегодня утром на трассе М4 произошло ДТП. Столкнулись два легковых автомобиля. Есть пострадавшие.\n"
     ]
    },
    {
     "name": "stderr",
     "output_type": "stream",
     "text": [
      "Your max_length is set to 100, but your input_length is only 72. Since this is a summarization task, where outputs shorter than the input are typically wanted, you might consider decreasing max_length manually, e.g. summarizer('...', max_length=36)\n",
      "2025-03-26 00:31:54.766 INFO    absl: Using default tokenizer.\n",
      "Your max_length is set to 100, but your input_length is only 58. Since this is a summarization task, where outputs shorter than the input are typically wanted, you might consider decreasing max_length manually, e.g. summarizer('...', max_length=29)\n"
     ]
    },
    {
     "name": "stdout",
     "output_type": "stream",
     "text": [
      "Российские ученые разработали новый метод лечения рака. Это может спасти миллионы жизней. Это может спасти миллионы жизней.\n"
     ]
    },
    {
     "name": "stderr",
     "output_type": "stream",
     "text": [
      "2025-03-26 00:31:55.744 INFO    absl: Using default tokenizer.\n",
      "Your max_length is set to 100, but your input_length is only 52. Since this is a summarization task, where outputs shorter than the input are typically wanted, you might consider decreasing max_length manually, e.g. summarizer('...', max_length=26)\n"
     ]
    },
    {
     "name": "stdout",
     "output_type": "stream",
     "text": [
      "В Москве открылась выставка современного искусства. На выставке представлены работы молодых художников. В Москве открылась выставка современного искусства.\n"
     ]
    },
    {
     "name": "stderr",
     "output_type": "stream",
     "text": [
      "2025-03-26 00:31:56.567 INFO    absl: Using default tokenizer.\n",
      "Your max_length is set to 100, but your input_length is only 72. Since this is a summarization task, where outputs shorter than the input are typically wanted, you might consider decreasing max_length manually, e.g. summarizer('...', max_length=36)\n"
     ]
    },
    {
     "name": "stdout",
     "output_type": "stream",
     "text": [
      "Полиция и полиция устанавливают обстоятельства произошедшего. Полиция и полиция выясняют обстоятельства произошедшего.\n"
     ]
    },
    {
     "name": "stderr",
     "output_type": "stream",
     "text": [
      "2025-03-26 00:31:57.961 INFO    absl: Using default tokenizer.\n",
      "Your max_length is set to 100, but your input_length is only 58. Since this is a summarization task, where outputs shorter than the input are typically wanted, you might consider decreasing max_length manually, e.g. summarizer('...', max_length=29)\n"
     ]
    },
    {
     "name": "stdout",
     "output_type": "stream",
     "text": [
      "<extra_id_0>. Русский язык | Русский Русский языков онлайн бесплатно и всё Русский Русский Русский Русский Русский \n"
     ]
    },
    {
     "name": "stderr",
     "output_type": "stream",
     "text": [
      "2025-03-26 00:31:58.654 INFO    absl: Using default tokenizer.\n",
      "Your max_length is set to 100, but your input_length is only 52. Since this is a summarization task, where outputs shorter than the input are typically wanted, you might consider decreasing max_length manually, e.g. summarizer('...', max_length=26)\n"
     ]
    },
    {
     "name": "stdout",
     "output_type": "stream",
     "text": [
      "<extra_id_0> и именно они. Подробнее... Подробнее......и...и...и...и...и...и...и\n"
     ]
    },
    {
     "name": "stderr",
     "output_type": "stream",
     "text": [
      "2025-03-26 00:31:59.414 INFO    absl: Using default tokenizer.\n"
     ]
    },
    {
     "name": "stdout",
     "output_type": "stream",
     "text": [
      "<extra_id_0>. ).ловна. <extra_id_49> сегодня произошло ДТП. Общество. <extra_id_51>. <extra_id_36>.ловна. <extra_id_48>. )dgå\n"
     ]
    },
    {
     "name": "stderr",
     "output_type": "stream",
     "text": [
      "2025-03-26 00:32:04.512 INFO    absl: Using default tokenizer.\n"
     ]
    },
    {
     "name": "stdout",
     "output_type": "stream",
     "text": [
      "Russian    разра  “Нечения рака’’. Нанан  эффективность. ‘‘’Н’  ‘И ’ ‘ ‘.’\n"
     ]
    },
    {
     "name": "stderr",
     "output_type": "stream",
     "text": [
      "2025-03-26 00:32:09.952 INFO    absl: Using default tokenizer.\n"
     ]
    },
    {
     "name": "stdout",
     "output_type": "stream",
     "text": [
      "На    открайте  ‘перейна’: “Непрактернее”: ‘‘ ’ ‘Картин’ : “”’”. ”“’Н”  ‘\n"
     ]
    },
    {
     "name": "stderr",
     "output_type": "stream",
     "text": [
      "2025-03-26 00:32:14.649 INFO    absl: Using default tokenizer.\n"
     ]
    },
    {
     "name": "stdout",
     "output_type": "stream",
     "text": [
      " М4 произощрейще  “4  праганта’s”,    “М4’’,  ””“‘‘М’. ‘’ ”, “”.  ” “ ”  \n"
     ]
    },
    {
     "name": "stderr",
     "output_type": "stream",
     "text": [
      "2025-03-26 00:32:23.554 INFO    absl: Using default tokenizer.\n"
     ]
    },
    {
     "name": "stdout",
     "output_type": "stream",
     "text": [
      "                                                \n"
     ]
    },
    {
     "name": "stderr",
     "output_type": "stream",
     "text": [
      "2025-03-26 00:32:31.941 INFO    absl: Using default tokenizer.\n"
     ]
    },
    {
     "name": "stdout",
     "output_type": "stream",
     "text": [
      " , , , , , , , , , , , , , , , , , , , , , , , , , , , , , , , ,\n"
     ]
    },
    {
     "name": "stderr",
     "output_type": "stream",
     "text": [
      "2025-03-26 00:32:41.138 INFO    absl: Using default tokenizer.\n"
     ]
    },
    {
     "name": "stdout",
     "output_type": "stream",
     "text": [
      "                                                \n"
     ]
    }
   ],
   "source": [
    "# --- Вычисление метрик ---\n",
    "results = {}\n",
    "rouge = evaluate.load(\"rouge\")\n",
    "segmenter = Segmenter()\n",
    "tokenizer = ToktokTokenizer()\n",
    "\n",
    "\n",
    "for name, summarizer in summarizers.items():\n",
    "    results[name] = {}\n",
    "    inference_times = []\n",
    "    rouge_scores = []\n",
    "\n",
    "    for text in news_texts:\n",
    "\n",
    "        start_time = time.time()\n",
    "\n",
    "        try:\n",
    "            if name != \"Lead-3\":\n",
    "                summary = summarizer(text, min_length=30, max_length=100)[0]['summary_text']\n",
    "            else:\n",
    "                summary = summarizer(text)\n",
    "        except Exception as e:\n",
    "            print(f\"Ошибка при суммаризации текста моделью {name}: {e}\")\n",
    "            summary = \"\" # Или другой способ обработки ошибок, например, пропуск текста\n",
    "\n",
    "        print (summary)\n",
    "        end_time = time.time()\n",
    "        inference_times.append(end_time - start_time)\n",
    "\n",
    "\n",
    "        scores = rouge.compute(predictions=[summary], references=[text])\n",
    "        rouge_scores.append(scores)\n",
    "\n",
    "\n",
    "    avg_rouge_scores = {key: np.mean([score[key] for score in rouge_scores]) for key in rouge_scores[0].keys()}\n",
    "    avg_inference_time = np.mean(inference_times)\n",
    "    results[name].update(avg_rouge_scores)\n",
    "    results[name][\"Inference Time\"] = avg_inference_time"
   ]
  },
  {
   "cell_type": "code",
   "execution_count": null,
   "id": "1e929d31-13cc-4586-b38c-05b4ff565476",
   "metadata": {},
   "outputs": [],
   "source": [
    "# 1 ruT5-base превзойдет другие модели по метрике ROUGE-L, так как она обучена на большом русском корпусе. aproved\n",
    "# 2 mT5-small покажет хорошую производительность, несмотря на меньший размер, благодаря многоязычной обученности. aproved\n",
    "# 3 Lead-3 baseline будет иметь низкие показатели ROUGE, но будет самым быстрым методом. aproved\n",
    "# 4 BART large-cnn будет эффективен для суммаризации новостей на русском, хоть и изначально обучен на английском.aproved\n",
    "# 5 Pegasus XSUM, хоть и предназначен для английского, покажет приемлемые результаты на русском языке. aproved\n"
   ]
  },
  {
   "cell_type": "code",
   "execution_count": 9,
   "id": "7310aa50-c20c-4184-b4a8-6231da48390c",
   "metadata": {},
   "outputs": [
    {
     "name": "stdout",
     "output_type": "stream",
     "text": [
      "{'Lead-3': {'rouge1': 0.3333333333333333, 'rouge2': 0.0, 'rougeL': 0.3333333333333333, 'rougeLsum': 0.3333333333333333, 'Inference Time': 0.00010506312052408855}, 'ruT5-base': {'rouge1': 0.0, 'rouge2': 0.0, 'rougeL': 0.0, 'rougeLsum': 0.0, 'Inference Time': 1.9128358364105225}, 'mT5-small': {'rouge1': 0.0, 'rouge2': 0.0, 'rougeL': 0.0, 'rougeLsum': 0.0, 'Inference Time': 2.447234312693278}, 'BART large-cnn': {'rouge1': 0.13333333333333333, 'rouge2': 0.0, 'rougeL': 0.13333333333333333, 'rougeLsum': 0.13333333333333333, 'Inference Time': 4.746054410934448}, 'Pegasus XSUM': {'rouge1': 0.0, 'rouge2': 0.0, 'rougeL': 0.0, 'rougeLsum': 0.0, 'Inference Time': 8.96697203318278}}\n",
      "['rouge1', 'rouge2', 'rougeL', 'rougeLsum', 'Inference Time']\n",
      "['Lead-3', 'ruT5-base', 'mT5-small', 'BART large-cnn', 'Pegasus XSUM']\n",
      "['Lead-3', 'ruT5-base', 'mT5-small', 'BART large-cnn', 'Pegasus XSUM']\n",
      "['Lead-3', 'ruT5-base', 'mT5-small', 'BART large-cnn', 'Pegasus XSUM']\n",
      "['Lead-3', 'ruT5-base', 'mT5-small', 'BART large-cnn', 'Pegasus XSUM']\n",
      "['Lead-3', 'ruT5-base', 'mT5-small', 'BART large-cnn', 'Pegasus XSUM']\n"
     ]
    },
    {
     "data": {
      "image/png": "[encoded data removed]",
      "text/plain": [
       "<Figure size 2000x500 with 5 Axes>"
      ]
     },
     "metadata": {},
     "output_type": "display_data"
    },
    {
     "name": "stdout",
     "output_type": "stream",
     "text": [
      "\n",
      "--- Результаты и проверка гипотез ---\n",
      "\n",
      "Lead-3:\n",
      " rouge1: 0.3333\n",
      " rouge2: 0.0000\n",
      " rougeL: 0.3333\n",
      " rougeLsum: 0.3333\n",
      " Inference Time: 0.0001\n",
      "--------------------\n",
      "ruT5-base:\n",
      " rouge1: 0.0000\n",
      " rouge2: 0.0000\n",
      " rougeL: 0.0000\n",
      " rougeLsum: 0.0000\n",
      " Inference Time: 1.9128\n",
      "--------------------\n",
      "mT5-small:\n",
      " rouge1: 0.0000\n",
      " rouge2: 0.0000\n",
      " rougeL: 0.0000\n",
      " rougeLsum: 0.0000\n",
      " Inference Time: 2.4472\n",
      "--------------------\n",
      "BART large-cnn:\n",
      " rouge1: 0.1333\n",
      " rouge2: 0.0000\n",
      " rougeL: 0.1333\n",
      " rougeLsum: 0.1333\n",
      " Inference Time: 4.7461\n",
      "--------------------\n",
      "Pegasus XSUM:\n",
      " rouge1: 0.0000\n",
      " rouge2: 0.0000\n",
      " rougeL: 0.0000\n",
      " rougeLsum: 0.0000\n",
      " Inference Time: 8.9670\n",
      "--------------------\n"
     ]
    }
   ],
   "source": [
    "metrics = [\"rouge1\", \"rouge2\", \"rougeL\", \"rougeLsum\", \"Inference Time\"]\n",
    "fig, axes = plt.subplots(1, len(metrics), figsize=(20, 5))\n",
    "print (results)\n",
    "print (metrics)\n",
    "for i, metric in enumerate(metrics):\n",
    "    model_names = list(results.keys())\n",
    "    print (model_names)\n",
    "    metric_values = [results[name][metric] for name in model_names]\n",
    "    axes[i].bar(model_names, metric_values)\n",
    "    axes[i].set_title(metric)\n",
    "    axes[i].set_ylabel(metric)\n",
    "\n",
    "\n",
    "plt.tight_layout()\n",
    "plt.show()\n",
    "\n",
    "\n",
    "\n",
    "\n",
    "# --- Вывод результатов и проверка гипотез ---\n",
    "print(\"\\n--- Результаты и проверка гипотез ---\\n\")\n",
    "\n",
    "for name, metrics in results.items():\n",
    "    print(f\"{name}:\")\n",
    "    for metric, value in metrics.items():\n",
    "        print(f\" {metric}: {value:.4f}\")\n",
    "    print(\"-\" * 20)"
   ]
  },
  {
   "cell_type": "code",
   "execution_count": null,
   "id": "38b1821e-68da-4490-a032-a20116e1bd6d",
   "metadata": {},
   "outputs": [],
   "source": []
  }
 ],
 "metadata": {
  "kernelspec": {
   "display_name": "Python 3 (ipykernel)",
   "language": "python",
   "name": "python3"
  },
  "language_info": {
   "codemirror_mode": {
    "name": "ipython",
    "version": 3
   },
   "file_extension": ".py",
   "mimetype": "text/x-python",
   "name": "python",
   "nbconvert_exporter": "python",
   "pygments_lexer": "ipython3",
   "version": "3.10.12"
  }
 },
 "nbformat": 4,
 "nbformat_minor": 5
}
