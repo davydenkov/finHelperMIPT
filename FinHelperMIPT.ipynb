{
 "cells": [
  {
   "cell_type": "code",
   "execution_count": 1,
   "id": "9dbc4bf0-b71c-4267-84af-c86580698d0d",
   "metadata": {},
   "outputs": [
    {
     "name": "stderr",
     "output_type": "stream",
     "text": [
      "2025-03-24 17:12:40.236654: I tensorflow/core/util/port.cc:153] oneDNN custom operations are on. You may see slightly different numerical results due to floating-point round-off errors from different computation orders. To turn them off, set the environment variable `TF_ENABLE_ONEDNN_OPTS=0`.\n",
      "2025-03-24 17:12:40.246673: E external/local_xla/xla/stream_executor/cuda/cuda_fft.cc:485] Unable to register cuFFT factory: Attempting to register factory for plugin cuFFT when one has already been registered\n",
      "2025-03-24 17:12:40.257847: E external/local_xla/xla/stream_executor/cuda/cuda_dnn.cc:8454] Unable to register cuDNN factory: Attempting to register factory for plugin cuDNN when one has already been registered\n",
      "2025-03-24 17:12:40.261125: E external/local_xla/xla/stream_executor/cuda/cuda_blas.cc:1452] Unable to register cuBLAS factory: Attempting to register factory for plugin cuBLAS when one has already been registered\n",
      "2025-03-24 17:12:40.269751: I tensorflow/core/platform/cpu_feature_guard.cc:210] This TensorFlow binary is optimized to use available CPU instructions in performance-critical operations.\n",
      "To enable the following instructions: AVX2 AVX_VNNI FMA, in other operations, rebuild TensorFlow with the appropriate compiler flags.\n",
      "2025-03-24 17:12:40.750193: W tensorflow/compiler/tf2tensorrt/utils/py_utils.cc:38] TF-TRT Warning: Could not find TensorRT\n"
     ]
    }
   ],
   "source": [
    "import yfinance as yf\n",
    "import pandas as pd\n",
    "import numpy as np\n",
    "from sklearn.model_selection import train_test_split\n",
    "from sklearn.metrics import mean_squared_error, mean_absolute_error, mean_absolute_percentage_error\n",
    "from catboost import CatBoostRegressor\n",
    "from xgboost import XGBRegressor\n",
    "from lightgbm import LGBMRegressor\n",
    "import torch\n",
    "import torch.nn as nn\n",
    "import torch.optim as optim\n",
    "from torch.utils.data import TensorDataset, DataLoader\n",
    "import matplotlib.pyplot as plt\n",
    "import pytz\n",
    "import streamlit as st\n",
    "from datetime import datetime as dt\n",
    "from keras.models import Sequential\n",
    "from tensorflow.keras.layers import GRU, LSTM, Dense, Conv1D, MaxPooling1D, Flatten\n",
    "import time"
   ]
  },
  {
   "cell_type": "code",
   "execution_count": 2,
   "id": "e45dc61c-7634-4044-be4d-9c31d4ada4cf",
   "metadata": {},
   "outputs": [
    {
     "name": "stderr",
     "output_type": "stream",
     "text": [
      "[*********************100%***********************]  1 of 1 completed\n"
     ]
    }
   ],
   "source": [
    "# --- Загрузка данных ---\n",
    "ticker_list = ['META', 'GOOG', 'ORCL', 'MSFT', 'AMZN']# Замените на нужный тикер\n",
    "ticker = 'META'\n",
    "tz = pytz.timezone(\"America/New_York\")\n",
    "start = tz.localize(dt(2023,1,1))\n",
    "end = tz.localize(dt(2024,1,1))\n",
    "data = yf.download(ticker, start, end, auto_adjust=True) # Замените на нужный период\n"
   ]
  },
  {
   "cell_type": "code",
   "execution_count": 3,
   "id": "84479169-cf10-4df4-bf64-e9f0f58ef081",
   "metadata": {},
   "outputs": [
    {
     "name": "stdout",
     "output_type": "stream",
     "text": [
      "Price             Open        High         Low       Close    Volume\n",
      "Ticker            META        META        META        META      META\n",
      "Date                                                                \n",
      "2023-01-03  122.243870  125.777220  121.706402  124.154861  35528500\n",
      "2023-01-04  126.782477  128.444649  125.259655  126.772530  32397100\n",
      "2023-01-05  125.538323  127.917118  123.955785  126.344528  25447100\n",
      "2023-01-06  128.365033  129.718654  125.448776  129.410110  27584500\n",
      "2023-01-09  130.544746  132.326342  128.673560  128.862671  26649100\n",
      "...                ...         ...         ...         ...       ...\n",
      "2023-12-21  351.324207  354.738110  347.571872  352.428986  15289600\n",
      "2023-12-22  353.911968  355.524394  349.572435  351.732269  11764200\n",
      "2023-12-26  353.324750  355.305436  351.791996  353.165497   9898600\n",
      "2023-12-27  354.399735  357.315984  353.643291  356.151459  13207900\n",
      "2023-12-28  358.012722  360.202384  356.131573  356.639191  11798800\n",
      "\n",
      "[249 rows x 5 columns] Date\n",
      "2023-01-03    126.772530\n",
      "2023-01-04    126.344528\n",
      "2023-01-05    129.410110\n",
      "2023-01-06    128.862671\n",
      "2023-01-09    132.366165\n",
      "                 ...    \n",
      "2023-12-21    351.732269\n",
      "2023-12-22    353.165497\n",
      "2023-12-26    356.151459\n",
      "2023-12-27    356.639191\n",
      "2023-12-28    352.299561\n",
      "Name: Close_Next_Day, Length: 249, dtype: float64\n"
     ]
    }
   ],
   "source": [
    "# --- Предобработка данных ---\n",
    "data['Close_Next_Day'] = data['Close'].shift(-1) # Целевая переменная - цена закрытия следующего дня\n",
    "data.dropna(inplace=True)\n",
    "features = ['Open', 'High', 'Low', 'Close', 'Volume']\n",
    "target = 'Close_Next_Day'\n",
    "X = data[features]\n",
    "y = data[target]\n",
    "print (X,y)"
   ]
  },
  {
   "cell_type": "code",
   "execution_count": 9,
   "id": "23c68056-90c5-4c40-b484-24f2d38ce1d6",
   "metadata": {},
   "outputs": [],
   "source": [
    "# --- Подготовка данных для GRU/CNN ---\n",
    "def create_sequences(data, seq_length):\n",
    "    xs = []\n",
    "    ys = []\n",
    "    for i in range(len(data) - seq_length - 1):\n",
    "        x = data[i:(i + seq_length)].values\n",
    "        y = data.iloc[i + seq_length +1][target]\n",
    "        xs.append(x)\n",
    "        ys.append(y)\n",
    "    return np.array(xs), np.array(ys)\n",
    "\n",
    "seq_length = 10 # Длина последовательности для GRU/CNN\n",
    "X_rnn, y_rnn= create_sequences(data, seq_length)\n",
    "print \n",
    "\n",
    "\n",
    "# --- Разделение данных ---\n",
    "X_train, X_test, y_train, y_test = train_test_split(X, y, test_size=0.2, shuffle=False)\n",
    "X_train_rnn, X_test_rnn, y_train_rnn, y_test_rnn = train_test_split(X_rnn, y_rnn, test_size=0.2, shuffle=False)\n",
    "\n"
   ]
  },
  {
   "cell_type": "code",
   "execution_count": 7,
   "id": "20ad5007-5d9e-4964-87d4-6342454fe1df",
   "metadata": {},
   "outputs": [],
   "source": [
    "models = {\n",
    "    \"CatBoost\": CatBoostRegressor(iterations=50, verbose=0, random_state=42),\n",
    "    \"XGBoost\": XGBRegressor(n_estimators=50, random_state=42),\n",
    "  #  \"LightGBM\": LGBMRegressor(n_estimators=50, random_state=42),\n",
    "    \"GRU\": Sequential([\n",
    "        GRU(50, activation='relu', input_shape=(X_train_rnn.shape[1], X_train_rnn.shape[2])),\n",
    "        Dense(1)\n",
    "    ]),\n",
    "    \"CNN\": Sequential([\n",
    "        Conv1D(filters=64, kernel_size=3, activation='relu', input_shape=(X_train_rnn.shape[1], X_train_rnn.shape[2])),\n",
    "        MaxPooling1D(pool_size=2),\n",
    "        Flatten(),\n",
    "        Dense(50, activation='relu'),\n",
    "        Dense(1)\n",
    "    ]),\n",
    "    \"LSTM\": Sequential([\n",
    "        LSTM(50, activation='relu', input_shape=(X_train_rnn.shape[1], X_train_rnn.shape[2])),\n",
    "        Dense(1)\n",
    "    ])\n",
    "}\n"
   ]
  },
  {
   "cell_type": "code",
   "execution_count": 8,
   "id": "f47751b0-287e-432e-ba3d-2c153c3b3913",
   "metadata": {},
   "outputs": [
    {
     "name": "stdout",
     "output_type": "stream",
     "text": [
      "\u001b[1m2/2\u001b[0m \u001b[32m━━━━━━━━━━━━━━━━━━━━\u001b[0m\u001b[37m\u001b[0m \u001b[1m0s\u001b[0m 89ms/step\n"
     ]
    },
    {
     "ename": "NameError",
     "evalue": "name 'X_train_cnn' is not defined",
     "output_type": "error",
     "traceback": [
      "\u001b[0;31m---------------------------------------------------------------------------\u001b[0m",
      "\u001b[0;31mNameError\u001b[0m                                 Traceback (most recent call last)",
      "Cell \u001b[0;32mIn[8], line 9\u001b[0m\n\u001b[1;32m      7\u001b[0m \u001b[38;5;28;01mif\u001b[39;00m name \u001b[38;5;129;01min\u001b[39;00m [\u001b[38;5;124m\"\u001b[39m\u001b[38;5;124mLSTM\u001b[39m\u001b[38;5;124m\"\u001b[39m, \u001b[38;5;124m\"\u001b[39m\u001b[38;5;124mGRU\u001b[39m\u001b[38;5;124m\"\u001b[39m, \u001b[38;5;124m\"\u001b[39m\u001b[38;5;124mCNN\u001b[39m\u001b[38;5;124m\"\u001b[39m]:\n\u001b[1;32m      8\u001b[0m     model\u001b[38;5;241m.\u001b[39mcompile(optimizer\u001b[38;5;241m=\u001b[39m\u001b[38;5;124m'\u001b[39m\u001b[38;5;124madam\u001b[39m\u001b[38;5;124m'\u001b[39m, loss\u001b[38;5;241m=\u001b[39m\u001b[38;5;124m'\u001b[39m\u001b[38;5;124mmse\u001b[39m\u001b[38;5;124m'\u001b[39m)\n\u001b[0;32m----> 9\u001b[0m     model\u001b[38;5;241m.\u001b[39mfit(X_train_rnn \u001b[38;5;28;01mif\u001b[39;00m name \u001b[38;5;129;01min\u001b[39;00m [\u001b[38;5;124m\"\u001b[39m\u001b[38;5;124mLSTM\u001b[39m\u001b[38;5;124m\"\u001b[39m, \u001b[38;5;124m\"\u001b[39m\u001b[38;5;124mGRU\u001b[39m\u001b[38;5;124m\"\u001b[39m] \u001b[38;5;28;01melse\u001b[39;00m \u001b[43mX_train_cnn\u001b[49m, y_train_rnn \u001b[38;5;28;01mif\u001b[39;00m name \u001b[38;5;129;01min\u001b[39;00m [\u001b[38;5;124m\"\u001b[39m\u001b[38;5;124mLSTM\u001b[39m\u001b[38;5;124m\"\u001b[39m, \u001b[38;5;124m\"\u001b[39m\u001b[38;5;124mGRU\u001b[39m\u001b[38;5;124m\"\u001b[39m] \u001b[38;5;28;01melse\u001b[39;00m y_train_cnn, epochs\u001b[38;5;241m=\u001b[39m\u001b[38;5;241m10\u001b[39m, batch_size\u001b[38;5;241m=\u001b[39m\u001b[38;5;241m32\u001b[39m, verbose\u001b[38;5;241m=\u001b[39m\u001b[38;5;241m0\u001b[39m)\n\u001b[1;32m     10\u001b[0m     preds \u001b[38;5;241m=\u001b[39m model\u001b[38;5;241m.\u001b[39mpredict(X_test_rnn \u001b[38;5;28;01mif\u001b[39;00m name \u001b[38;5;129;01min\u001b[39;00m [\u001b[38;5;124m\"\u001b[39m\u001b[38;5;124mLSTM\u001b[39m\u001b[38;5;124m\"\u001b[39m, \u001b[38;5;124m\"\u001b[39m\u001b[38;5;124mGRU\u001b[39m\u001b[38;5;124m\"\u001b[39m] \u001b[38;5;28;01melse\u001b[39;00m X_test_cnn)\u001b[38;5;241m.\u001b[39mflatten()\n\u001b[1;32m     11\u001b[0m     y_true \u001b[38;5;241m=\u001b[39m y_test_rnn \u001b[38;5;28;01mif\u001b[39;00m name \u001b[38;5;129;01min\u001b[39;00m [\u001b[38;5;124m\"\u001b[39m\u001b[38;5;124mLSTM\u001b[39m\u001b[38;5;124m\"\u001b[39m, \u001b[38;5;124m\"\u001b[39m\u001b[38;5;124mGRU\u001b[39m\u001b[38;5;124m\"\u001b[39m] \u001b[38;5;28;01melse\u001b[39;00m y_test_cnn\n",
      "\u001b[0;31mNameError\u001b[0m: name 'X_train_cnn' is not defined"
     ]
    }
   ],
   "source": [
    "\n",
    "# --- Обучение и оценка ---\n",
    "results = {}\n",
    "\n",
    "for name, model in models.items():\n",
    "    start_time = time.time() # Засекаем время начала обучения\n",
    "\n",
    "    if name in [\"LSTM\", \"GRU\", \"CNN\"]:\n",
    "        model.compile(optimizer='adam', loss='mse')\n",
    "        model.fit(X_train_rnn if name in [\"LSTM\", \"GRU\"] else X_train_cnn, y_train_rnn if name in [\"LSTM\", \"GRU\"] else y_train_cnn, epochs=10, batch_size=32, verbose=0)\n",
    "        preds = model.predict(X_test_rnn if name in [\"LSTM\", \"GRU\"] else X_test_cnn).flatten()\n",
    "        y_true = y_test_rnn if name in [\"LSTM\", \"GRU\"] else y_test_cnn\n",
    "\n",
    "    else:\n",
    "        model.fit(X_train, y_train)\n",
    "        preds = model.predict(X_test)\n",
    "        y_true = y_test\n",
    "\n",
    "\n",
    "    end_time = time.time()\n",
    "    training_time = end_time - start_time\n",
    "\n",
    "    rmse = np.sqrt(mean_squared_error(y_true, preds))\n",
    "    mae = mean_absolute_error(y_true, preds)\n",
    "    mape = mean_absolute_percentage_error(y_true, preds)\n",
    "    results[name] = {\"RMSE\": rmse, \"MAE\": mae, \"MAPE\": mape, \"Training Time\": training_time}\n"
   ]
  },
  {
   "cell_type": "code",
   "execution_count": 65,
   "id": "34c314c0-d4ba-407d-940a-30cb58be66cd",
   "metadata": {},
   "outputs": [
    {
     "data": {
      "image/png": "[encoded data removed]",
      "text/plain": [
       "<Figure size 1500x500 with 3 Axes>"
      ]
     },
     "metadata": {},
     "output_type": "display_data"
    },
    {
     "name": "stdout",
     "output_type": "stream",
     "text": [
      "CatBoost:\n",
      " RMSE: 19.2612\n",
      " MAE: 15.2467\n",
      " MAPE: 0.0454\n",
      "XGBoost:\n",
      " RMSE: 22.5784\n",
      " MAE: 17.9340\n",
      " MAPE: 0.0534\n",
      "GRU:\n",
      " RMSE: 152078.8703\n",
      " MAE: 123780.5242\n",
      " MAPE: 380.3358\n",
      "CNN:\n",
      " RMSE: 252354.3343\n",
      " MAE: 202130.0222\n",
      " MAPE: 624.0944\n",
      "LSTM:\n",
      " RMSE: 491256.3687\n",
      " MAE: 426526.1777\n",
      " MAPE: 1313.6601\n"
     ]
    }
   ],
   "source": [
    "# --- Визуализация ---\n",
    "fig, axes = plt.subplots(1, 3, figsize=(15, 5))\n",
    "\n",
    "for i, metric in enumerate([\"RMSE\", \"MAE\", \"MAPE\"]):\n",
    "    model_names = list(results.keys())\n",
    "    metric_values = [results[name][metric] for name in model_names]\n",
    "    axes[i].bar(model_names, metric_values)\n",
    "    axes[i].set_title(metric)\n",
    "    axes[i].set_ylabel(metric)\n",
    "\n",
    "\n",
    "plt.tight_layout()\n",
    "plt.show()\n",
    "\n",
    "# --- Вывод результатов ---\n",
    "for name, metrics in results.items():\n",
    "    print(f\"{name}:\")\n",
    "    for metric, value in metrics.items():\n",
    "        print(f\" {metric}: {value:.4f}\")"
   ]
  },
  {
   "cell_type": "code",
   "execution_count": null,
   "id": "217ef101-77c8-498d-ad7e-23424b402666",
   "metadata": {},
   "outputs": [],
   "source": []
  }
 ],
 "metadata": {
  "kernelspec": {
   "display_name": "Python 3 (ipykernel)",
   "language": "python",
   "name": "python3"
  },
  "language_info": {
   "codemirror_mode": {
    "name": "ipython",
    "version": 3
   },
   "file_extension": ".py",
   "mimetype": "text/x-python",
   "name": "python",
   "nbconvert_exporter": "python",
   "pygments_lexer": "ipython3",
   "version": "3.10.12"
  }
 },
 "nbformat": 4,
 "nbformat_minor": 5
}
